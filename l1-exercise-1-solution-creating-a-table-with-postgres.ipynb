#%% [markdown]
# # Lesson 1 Exercise 1: Creating a Table with PostgreSQL
# 
# Image file: postgresSQLlogo
#%% [markdown]
# ### Walk through the basics of PostgreSQL. You will need to complete the following tasks:
# <li>Create a table in PostgreSQL,<li>Insert rows of data<li>Run a simple SQL query to validate the information.
#%% [markdown]
# #### Import the library 
# *Note:* An error might popup after this command has executed. If it does, read it carefully before ignoring. 

#%%
import psycopg2

#%% [markdown]
# ### Create a connection to the database

#%%
try: 
    conn = psycopg2.connect("host=127.0.0.1 dbname=studentdb user=student password=student")
except psycopg2.Error as e: 
    print("Error: Could not make connection to the Postgres database")
    print(e)

#%% [markdown]
# ### Use the connection to get a cursor that can be used to execute queries.

#%%
try: 
    cur = conn.cursor()
except psycopg2.Error as e: 
    print("Error: Could not get curser to the Database")
    print(e)

#%% [markdown]
# ### Set automatic commit to be true so that each action is committed without having to call conn.commit() after each command. 

#%%
# TO-DO: set automatic commit to be true

#%% [markdown]
# ### Create a database to do the work in. 

#%%
## TO-DO: Add the database name within the CREATE DATABASE statement. You can choose your own db name.
try: 
    cur.execute("create database udacity")
except psycopg2.Error as e:
    print(e)

#%% [markdown]
# #### Add the database name in the connect statement. Let's close our connection to the default database, reconnect to the Udacity database, and get a new cursor.

#%%
try: 
    conn.close()
except psycopg2.Error as e:
    print(e)
    
try: 
    conn = psycopg2.connect("dbname=udacity")
except psycopg2.Error as e: 
    print("Error: Could not make connection to the Postgres database")
    print(e)
    
try: 
    cur = conn.cursor()
except psycopg2.Error as e: 
    print("Error: Could not get curser to the Database")
    print(e)

conn.set_session(autocommit=True)

#%% [markdown]
# ### Create a Song Library that contains a list of songs, including the song name, artist name, year, album it was from, and if it was a single. 
# 
# `song title
# artist
# year
# album
# single`
# 

#%%
try: 
    cur.execute("CREATE TABLE IF NOT EXISTS songs (song_title varchar, artist_name varchar, year int, album_name varchar, single Boolean);")
except psycopg2.Error as e: 
    print("Error: Issue creating table")
    print (e)

#%% [markdown]
# ###  Insert the following two rows in the table
# `First Row:  "Across The Universe", "The Beatles", "1970", "False", "Let It Be"`
# 
# `Second Row: "The Beatles", "Think For Yourself", "False", "1965", "Rubber Soul"`

#%%
try: 
    cur.execute("INSERT INTO songs (song_title, artist_name, year, album_name, single)                  VALUES (%s, %s, %s, %s, %s)",                  ("Across The Universe", "The Beatles", 1970, "Let It Be", False))
except psycopg2.Error as e: 
    print("Error: Inserting Rows")
    print (e)
    
try: 
    cur.execute("INSERT INTO songs (song_title, artist_name, year, album_name, single)                   VALUES (%s, %s, %s, %s, %s)",
                  ("Think For Yourself", "The Beatles", 1965, "Rubber Soul", False))
except psycopg2.Error as e: 
    print("Error: Inserting Rows")
    print (e)

#%% [markdown]
# ###  Validate your data was inserted into the table. 
# 

#%%
try: 
    cur.execute("SELECT * FROM songs;")
except psycopg2.Error as e: 
    print("Error: select *")
    print (e)

row = cur.fetchone()
while row:
   print(row)
   row = cur.fetchone()

#%% [markdown]
# ### And finally close your cursor and connection. 

#%%
cur.close()
conn.close()


